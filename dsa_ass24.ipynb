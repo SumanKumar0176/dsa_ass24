{
  "nbformat": 4,
  "nbformat_minor": 0,
  "metadata": {
    "colab": {
      "provenance": []
    },
    "kernelspec": {
      "name": "python3",
      "display_name": "Python 3"
    },
    "language_info": {
      "name": "python"
    }
  },
  "cells": [
    {
      "cell_type": "code",
      "execution_count": null,
      "metadata": {
        "id": "gzx_kzON6vdJ"
      },
      "outputs": [],
      "source": [
        "#1. Roman to Integer"
      ]
    },
    {
      "cell_type": "code",
      "source": [
        "def romanToInt(s):\n",
        "    roman_values = {\n",
        "        'I': 1,\n",
        "        'V': 5,\n",
        "        'X': 10,\n",
        "        'L': 50,\n",
        "        'C': 100,\n",
        "        'D': 500,\n",
        "        'M': 1000\n",
        "    }\n",
        "    total = 0\n",
        "    n = len(s)\n",
        "\n",
        "    for i in range(n - 1):\n",
        "        if roman_values[s[i]] < roman_values[s[i+1]]:\n",
        "            total -= roman_values[s[i]]\n",
        "        else:\n",
        "            total += roman_values[s[i]]\n",
        "\n",
        "    total += roman_values[s[n-1]]\n",
        "\n",
        "    return total\n"
      ],
      "metadata": {
        "id": "eKCqS7IM7DRQ"
      },
      "execution_count": null,
      "outputs": []
    },
    {
      "cell_type": "code",
      "source": [
        "print(romanToInt(\"III\"))   # Output: 3\n",
        "print(romanToInt(\"LVIII\")) # Output: 58\n"
      ],
      "metadata": {
        "colab": {
          "base_uri": "https://localhost:8080/"
        },
        "id": "DKTMC5UD7Gol",
        "outputId": "88a238de-8197-428f-951b-eea3374c31a4"
      },
      "execution_count": null,
      "outputs": [
        {
          "output_type": "stream",
          "name": "stdout",
          "text": [
            "3\n",
            "58\n"
          ]
        }
      ]
    },
    {
      "cell_type": "code",
      "source": [
        "#2. Longest Substring Without Repeating Characters"
      ],
      "metadata": {
        "id": "eP_Fl1XA7KF1"
      },
      "execution_count": null,
      "outputs": []
    },
    {
      "cell_type": "code",
      "source": [
        "def longest_substring(s):\n",
        "    start = 0\n",
        "    end = 0\n",
        "    max_length = 0\n",
        "    unique_chars = set()\n",
        "\n",
        "    while end < len(s):\n",
        "        if s[end] not in unique_chars:\n",
        "            unique_chars.add(s[end])\n",
        "            max_length = max(max_length, end - start + 1)\n",
        "            end += 1\n",
        "        else:\n",
        "            unique_chars.remove(s[start])\n",
        "            start += 1\n",
        "\n",
        "    return max_length\n"
      ],
      "metadata": {
        "id": "Gtabi4mwIj1-"
      },
      "execution_count": null,
      "outputs": []
    },
    {
      "cell_type": "code",
      "source": [
        "string = \"abcabcbb\"\n",
        "result = longest_substring(string)\n",
        "print(result)  # Output: 3\n"
      ],
      "metadata": {
        "colab": {
          "base_uri": "https://localhost:8080/"
        },
        "id": "ooYIzjSlIqzT",
        "outputId": "545f7928-b009-44cc-cad8-6859659b0ab7"
      },
      "execution_count": null,
      "outputs": [
        {
          "output_type": "stream",
          "name": "stdout",
          "text": [
            "3\n"
          ]
        }
      ]
    },
    {
      "cell_type": "code",
      "source": [
        "#3. Majority Element"
      ],
      "metadata": {
        "id": "KsYOuDmnIuGE"
      },
      "execution_count": null,
      "outputs": []
    },
    {
      "cell_type": "code",
      "source": [
        "def find_majority_element(nums):\n",
        "    candidate = None\n",
        "    count = 0\n",
        "\n",
        "    # Find potential candidate\n",
        "    for num in nums:\n",
        "        if count == 0:\n",
        "            candidate = num\n",
        "        if num == candidate:\n",
        "            count += 1\n",
        "        else:\n",
        "            count -= 1\n",
        "\n",
        "    # Verify if candidate is the majority element\n",
        "    count = 0\n",
        "    for num in nums:\n",
        "        if num == candidate:\n",
        "            count += 1\n",
        "\n",
        "    if count > len(nums) // 2:\n",
        "        return candidate\n",
        "    else:\n",
        "        return None\n",
        "\n",
        "# Example usage\n",
        "arr = [2, 2, 1, 1, 1, 2, 2]\n",
        "result = find_majority_element(arr)\n",
        "if result:\n",
        "    print(\"Majority element:\", result)\n",
        "else:\n",
        "    print(\"No majority element found.\")\n"
      ],
      "metadata": {
        "colab": {
          "base_uri": "https://localhost:8080/"
        },
        "id": "leftaCo_3Afb",
        "outputId": "1b788c14-81b2-4569-8266-339291852bf3"
      },
      "execution_count": null,
      "outputs": [
        {
          "output_type": "stream",
          "name": "stdout",
          "text": [
            "Majority element: 2\n"
          ]
        }
      ]
    },
    {
      "cell_type": "code",
      "source": [
        "#4. Group Anagram"
      ],
      "metadata": {
        "id": "d6mhRSDS3Er6"
      },
      "execution_count": null,
      "outputs": []
    },
    {
      "cell_type": "code",
      "source": [
        "def group_anagrams(strs):\n",
        "    anagram_groups = {}\n",
        "\n",
        "    for word in strs:\n",
        "        # Create a sorted tuple of the characters in the word\n",
        "        sorted_word = tuple(sorted(word))\n",
        "\n",
        "        # Check if the sorted tuple exists as a key in the dictionary\n",
        "        if sorted_word in anagram_groups:\n",
        "            # Append the word to the existing anagram group\n",
        "            anagram_groups[sorted_word].append(word)\n",
        "        else:\n",
        "            # Create a new anagram group with the sorted tuple as the key\n",
        "            anagram_groups[sorted_word] = [word]\n",
        "\n",
        "    return list(anagram_groups.values())\n",
        "\n",
        "# Example usage\n",
        "words = [\"eat\", \"tea\", \"tan\", \"ate\", \"nat\", \"bat\"]\n",
        "result = group_anagrams(words)\n",
        "print(result)\n"
      ],
      "metadata": {
        "colab": {
          "base_uri": "https://localhost:8080/"
        },
        "id": "8NpsLNLMFnAx",
        "outputId": "398d62a1-ed09-4e9c-8aa2-05b5756d3ac9"
      },
      "execution_count": null,
      "outputs": [
        {
          "output_type": "stream",
          "name": "stdout",
          "text": [
            "[['eat', 'tea', 'ate'], ['tan', 'nat'], ['bat']]\n"
          ]
        }
      ]
    },
    {
      "cell_type": "code",
      "source": [
        "#5. Ugly Numbers"
      ],
      "metadata": {
        "id": "0KlxkQsj3Ogh"
      },
      "execution_count": null,
      "outputs": []
    },
    {
      "cell_type": "code",
      "source": [
        "def generate_ugly_numbers(n):\n",
        "    ugly_numbers = [1]  # Start with the first ugly number: 1\n",
        "    num_2, num_3, num_5 = 0, 0, 0  # Pointers to track the next number to multiply by 2, 3, and 5\n",
        "\n",
        "    for _ in range(1, n):\n",
        "        next_ugly_num = min(ugly_numbers[num_2] * 2, ugly_numbers[num_3] * 3, ugly_numbers[num_5] * 5)\n",
        "        ugly_numbers.append(next_ugly_num)\n",
        "\n",
        "        # Update the pointers based on the next ugly number\n",
        "        if next_ugly_num == ugly_numbers[num_2] * 2:\n",
        "            num_2 += 1\n",
        "        if next_ugly_num == ugly_numbers[num_3] * 3:\n",
        "            num_3 += 1\n",
        "        if next_ugly_num == ugly_numbers[num_5] * 5:\n",
        "            num_5 += 1\n",
        "\n",
        "    return ugly_numbers\n",
        "\n",
        "\n",
        "# Generate the first 10 ugly numbers\n",
        "n = 10\n",
        "ugly_nums = generate_ugly_numbers(n)\n",
        "print(ugly_nums)\n"
      ],
      "metadata": {
        "id": "DjLWxwI8GpBr"
      },
      "execution_count": null,
      "outputs": []
    },
    {
      "cell_type": "code",
      "source": [
        "#6. Top K Frequent Words"
      ],
      "metadata": {
        "id": "PTFqb1pkZAVG"
      },
      "execution_count": null,
      "outputs": []
    },
    {
      "cell_type": "code",
      "source": [
        "from collections import Counter\n",
        "\n",
        "def topKFrequent(words, k):\n",
        "    # Count the frequency of each word\n",
        "    word_count = Counter(words)\n",
        "\n",
        "    # Sort the words based on count and lexicographical order\n",
        "    sorted_words = sorted(word_count.keys(), key=lambda word: (-word_count[word], word))\n",
        "\n",
        "    # Return the top K frequent words\n",
        "    return sorted_words[:k]\n",
        "\n",
        "# Example usage\n",
        "word_list = [\"apple\", \"banana\", \"apple\", \"banana\", \"orange\", \"orange\", \"orange\"]\n",
        "k = 2\n",
        "top_k_words = topKFrequent(word_list, k)\n",
        "print(top_k_words)\n"
      ],
      "metadata": {
        "colab": {
          "base_uri": "https://localhost:8080/"
        },
        "id": "U8NiEcFbZGFO",
        "outputId": "fedaf01e-df94-4f1f-ebc4-fc5d6c95f0e4"
      },
      "execution_count": null,
      "outputs": [
        {
          "output_type": "stream",
          "name": "stdout",
          "text": [
            "['orange', 'apple']\n"
          ]
        }
      ]
    },
    {
      "cell_type": "code",
      "source": [
        "#7. Sliding Window Maximum"
      ],
      "metadata": {
        "id": "HR_mjQBbli9u"
      },
      "execution_count": null,
      "outputs": []
    },
    {
      "cell_type": "code",
      "source": [
        "from collections import deque\n",
        "\n",
        "def sliding_window_maximum(nums, k):\n",
        "    result = []\n",
        "    window = deque()\n",
        "\n",
        "    # Process the first k elements\n",
        "    for i in range(k):\n",
        "        # Remove elements smaller than the current element from the window\n",
        "        while window and nums[i] >= nums[window[-1]]:\n",
        "            window.pop()\n",
        "        window.append(i)\n",
        "\n",
        "    # Process the remaining elements\n",
        "    for i in range(k, len(nums)):\n",
        "        result.append(nums[window[0]])\n",
        "\n",
        "        # Remove elements outside the current window from the front of the window\n",
        "        while window and window[0] <= i - k:\n",
        "            window.popleft()\n",
        "\n",
        "        # Remove elements smaller than the current element from the window\n",
        "        while window and nums[i] >= nums[window[-1]]:\n",
        "            window.pop()\n",
        "        window.append(i)\n",
        "\n",
        "    # Add the maximum element from the last window\n",
        "    result.append(nums[window[0]])\n",
        "\n",
        "    return result\n"
      ],
      "metadata": {
        "id": "xAn6ndp1luFb"
      },
      "execution_count": 1,
      "outputs": []
    },
    {
      "cell_type": "code",
      "source": [],
      "metadata": {
        "id": "MlJxzFXl7LQJ"
      },
      "execution_count": null,
      "outputs": []
    }
  ]
}